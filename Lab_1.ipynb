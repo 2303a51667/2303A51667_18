{
  "nbformat": 4,
  "nbformat_minor": 0,
  "metadata": {
    "colab": {
      "provenance": [],
      "authorship_tag": "ABX9TyNHBPeaqXBw84ausYJCcUxA",
      "include_colab_link": true
    },
    "kernelspec": {
      "name": "python3",
      "display_name": "Python 3"
    },
    "language_info": {
      "name": "python"
    }
  },
  "cells": [
    {
      "cell_type": "markdown",
      "metadata": {
        "id": "view-in-github",
        "colab_type": "text"
      },
      "source": [
        "<a href=\"https://colab.research.google.com/github/2303a51667/2303A51667_18/blob/main/Lab_1.ipynb\" target=\"_parent\"><img src=\"https://colab.research.google.com/assets/colab-badge.svg\" alt=\"Open In Colab\"/></a>"
      ]
    },
    {
      "cell_type": "code",
      "source": [
        "def fac(n):\n",
        "  if n == 0 or n == 1:\n",
        "    return 1\n",
        "  else:\n",
        "    return n * fac(n - 1)\n",
        "\n",
        "num = int(input(\"enter a number:\"))\n",
        "if num < 0:\n",
        "  print(\"factorial cannot be found for negative numbers\")\n",
        "else:\n",
        "  res = fac(num)\n",
        "  print(\"factorial of\", num, \"is\", res)"
      ],
      "metadata": {
        "id": "ZCQ7k1DAYRlu",
        "colab": {
          "base_uri": "https://localhost:8080/"
        },
        "outputId": "ae1e7c5e-700e-4976-c1ae-7689d16ea770"
      },
      "execution_count": 3,
      "outputs": [
        {
          "output_type": "stream",
          "name": "stdout",
          "text": [
            "enter a number:4\n",
            "factorial of 4 is 24\n"
          ]
        }
      ]
    }
  ]
}