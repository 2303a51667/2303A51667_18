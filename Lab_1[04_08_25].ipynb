{
  "nbformat": 4,
  "nbformat_minor": 0,
  "metadata": {
    "colab": {
      "provenance": [],
      "authorship_tag": "ABX9TyMGQ7BB2j9LokM7lhUWmmMn",
      "include_colab_link": true
    },
    "kernelspec": {
      "name": "python3",
      "display_name": "Python 3"
    },
    "language_info": {
      "name": "python"
    }
  },
  "cells": [
    {
      "cell_type": "markdown",
      "metadata": {
        "id": "view-in-github",
        "colab_type": "text"
      },
      "source": [
        "<a href=\"https://colab.research.google.com/github/2303a51667/2303A51667_18/blob/main/Lab_1%5B04_08_25%5D.ipynb\" target=\"_parent\"><img src=\"https://colab.research.google.com/assets/colab-badge.svg\" alt=\"Open In Colab\"/></a>"
      ]
    },
    {
      "cell_type": "code",
      "source": [
        "def fac(n):\n",
        "  if n == 0 or n == 1:\n",
        "    return 1\n",
        "  else:\n",
        "    return n * fac(n - 1)\n",
        "\n",
        "num = int(input(\"enter a number:\"))\n",
        "if num < 0:\n",
        "  print(\"factorial cannot be found for negative numbers\")\n",
        "else:\n",
        "  res = fac(num)\n",
        "  print(\"factorial of\", num, \"is\", res)"
      ],
      "metadata": {
        "id": "ZCQ7k1DAYRlu",
        "colab": {
          "base_uri": "https://localhost:8080/"
        },
        "outputId": "50ab6703-c635-496f-b8b4-b859113d53ec"
      },
      "execution_count": 1,
      "outputs": [
        {
          "output_type": "stream",
          "name": "stdout",
          "text": [
            "enter a number:5\n",
            "factorial of 5 is 120\n"
          ]
        }
      ]
    },
    {
      "cell_type": "code",
      "source": [],
      "metadata": {
        "id": "het7-bgpZ-fM"
      },
      "execution_count": null,
      "outputs": []
    }
  ]
}