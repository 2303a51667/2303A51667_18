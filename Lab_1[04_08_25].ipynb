{
  "nbformat": 4,
  "nbformat_minor": 0,
  "metadata": {
    "colab": {
      "provenance": [],
      "authorship_tag": "ABX9TyOjNdxMsIdJWpj/RD2m1IKE",
      "include_colab_link": true
    },
    "kernelspec": {
      "name": "python3",
      "display_name": "Python 3"
    },
    "language_info": {
      "name": "python"
    }
  },
  "cells": [
    {
      "cell_type": "markdown",
      "metadata": {
        "id": "view-in-github",
        "colab_type": "text"
      },
      "source": [
        "<a href=\"https://colab.research.google.com/github/2303a51667/2303A51667_18/blob/main/Lab_1%5B04_08_25%5D.ipynb\" target=\"_parent\"><img src=\"https://colab.research.google.com/assets/colab-badge.svg\" alt=\"Open In Colab\"/></a>"
      ]
    },
    {
      "cell_type": "code",
      "source": [
        "def fac(n):\n",
        "  if n == 0 or n == 1:\n",
        "    return 1\n",
        "  else:\n",
        "    return n * fac(n - 1)\n",
        "num = int(input(\"enter a number:\"))\n",
        "if num < 0:\n",
        "  print(\"factorial cannot be found for negative numbers\")\n",
        "else:\n",
        "  res = fac(num)\n",
        "  print(\"factorial of\", num, \"is\", res)"
      ],
      "metadata": {
        "id": "ZCQ7k1DAYRlu",
        "colab": {
          "base_uri": "https://localhost:8080/"
        },
        "outputId": "b886a2f1-768b-462a-e8f7-e7d56540e9c7"
      },
      "execution_count": 1,
      "outputs": [
        {
          "output_type": "stream",
          "name": "stdout",
          "text": [
            "enter a number:2\n",
            "factorial of 2 is 2\n"
          ]
        }
      ]
    },
    {
      "cell_type": "code",
      "source": [
        "def factorial(n):\n",
        "    if n == 0 or n == 1:\n",
        "        return 1\n",
        "    else:\n",
        "        result = n * factorial(n - 1)\n",
        "        print(f\"factorial({n}) = {result}\")\n",
        "        return result\n",
        "\n",
        "\n",
        "def nCr(n, r):\n",
        "\n",
        "    if n < 0 or r < 0 or n < r:\n",
        "        raise ValueError(\"Invalid input: ensure n ≥ r ≥ 0\")\n",
        "\n",
        "    if r == 0 or n == r:\n",
        "        return 1\n",
        "\n",
        "    return factorial(n) // (factorial(r) * factorial(n - r))\n",
        "\n",
        "\n",
        "if __name__ == \"__main__\":\n",
        "    n = int(input(\"Enter n: \"))\n",
        "    r = int(input(\"Enter r: \"))\n",
        "\n",
        "    print(f\"\\nComputing {n}C{r}:\")\n",
        "    result = nCr(n, r)\n",
        "    print(f\"\\n{n}C{r} = {result}\")\n",
        "\n",
        "    builtin = math.comb(n, r)\n",
        "    print(f\"Python built-in math.comb({n}, {r}) = {builtin}\")\n",
        "    print(\"Match ✅\" if result == builtin else \"Mismatch ❌\")\n"
      ],
      "metadata": {
        "colab": {
          "base_uri": "https://localhost:8080/"
        },
        "id": "ZZIVj9IiSYAZ",
        "outputId": "fe71d4f1-4de1-4353-c7c2-05625dd47965"
      },
      "execution_count": 14,
      "outputs": [
        {
          "output_type": "stream",
          "name": "stdout",
          "text": [
            "Enter n: 5\n",
            "Enter r: 4\n",
            "\n",
            "Computing 5C4:\n",
            "factorial(2) = 2\n",
            "factorial(3) = 6\n",
            "factorial(4) = 24\n",
            "factorial(5) = 120\n",
            "factorial(2) = 2\n",
            "factorial(3) = 6\n",
            "factorial(4) = 24\n",
            "\n",
            "5C4 = 5\n",
            "Python built-in math.comb(5, 4) = 5\n",
            "Match ✅\n"
          ]
        }
      ]
    }
  ]
}